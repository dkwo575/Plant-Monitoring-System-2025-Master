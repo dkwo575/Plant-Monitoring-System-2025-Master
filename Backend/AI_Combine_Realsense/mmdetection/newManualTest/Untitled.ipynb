{
 "cells": [
  {
   "cell_type": "code",
   "execution_count": null,
   "id": "5325b471-8da6-4b62-af58-cec05f8062d8",
   "metadata": {},
   "outputs": [],
   "source": [
    "68558492aad4414689678fa36eaaa9d8 color"
   ]
  },
  {
   "cell_type": "code",
   "execution_count": 5,
   "id": "2aed3ddf-7254-44e9-a375-3c2400f5c636",
   "metadata": {},
   "outputs": [],
   "source": [
    "from mmdet.apis import init_detector, inference_detector, show_result_pyplot\n",
    "import mmcv\n",
    "import numpy as np\n",
    "import cv2 as cv\n",
    "import matplotlib.pyplot as plt \n",
    "import time\n",
    "import random\n",
    "\n",
    "config_file = 'configs/mask_rcnn/mask_rcnn_r50_fpn_1x_coco.py'\n",
    "# download the checkpoint from model zoo and put it in `checkpoints/`\n",
    "# url: https://download.openmmlab.com/mmdetection/v2.0/faster_rcnn/faster_rcnn_r50_fpn_1x_coco/faster_rcnn_r50_fpn_1x_coco_20200130-047c8118.pth\n",
    "checkpoint_file = 'laboro_tomato_big_48ep.pth'"
   ]
  },
  {
   "cell_type": "code",
   "execution_count": 6,
   "id": "9bce8f34-c8ab-41e7-aeae-edac7342ccfa",
   "metadata": {},
   "outputs": [
    {
     "ename": "FileNotFoundError",
     "evalue": "[Errno 2] No such file or directory: '68558492aad4414689678fa36eaaa9d8 color.png'",
     "output_type": "error",
     "traceback": [
      "\u001b[1;31m---------------------------------------------------------------------------\u001b[0m",
      "\u001b[1;31mFileNotFoundError\u001b[0m                         Traceback (most recent call last)",
      "\u001b[1;32m~\\AppData\\Local\\Temp\\ipykernel_14836\\604334359.py\u001b[0m in \u001b[0;36m<module>\u001b[1;34m\u001b[0m\n\u001b[0;32m      5\u001b[0m \u001b[1;33m\u001b[0m\u001b[0m\n\u001b[0;32m      6\u001b[0m \u001b[1;31m#read the image\u001b[0m\u001b[1;33m\u001b[0m\u001b[1;33m\u001b[0m\u001b[1;33m\u001b[0m\u001b[0m\n\u001b[1;32m----> 7\u001b[1;33m \u001b[0mim\u001b[0m \u001b[1;33m=\u001b[0m \u001b[0mImage\u001b[0m\u001b[1;33m.\u001b[0m\u001b[0mopen\u001b[0m\u001b[1;33m(\u001b[0m\u001b[0mimagePath\u001b[0m\u001b[1;33m)\u001b[0m\u001b[1;33m\u001b[0m\u001b[1;33m\u001b[0m\u001b[0m\n\u001b[0m\u001b[0;32m      8\u001b[0m \u001b[1;33m\u001b[0m\u001b[0m\n\u001b[0;32m      9\u001b[0m \u001b[1;31m#image brightness enhancer\u001b[0m\u001b[1;33m\u001b[0m\u001b[1;33m\u001b[0m\u001b[1;33m\u001b[0m\u001b[0m\n",
      "\u001b[1;32m~\\miniconda3\\envs\\open-mmlab\\lib\\site-packages\\PIL\\Image.py\u001b[0m in \u001b[0;36mopen\u001b[1;34m(fp, mode)\u001b[0m\n\u001b[0;32m   2764\u001b[0m \u001b[1;33m\u001b[0m\u001b[0m\n\u001b[0;32m   2765\u001b[0m     \u001b[1;32mif\u001b[0m \u001b[0mfilename\u001b[0m\u001b[1;33m:\u001b[0m\u001b[1;33m\u001b[0m\u001b[1;33m\u001b[0m\u001b[0m\n\u001b[1;32m-> 2766\u001b[1;33m         \u001b[0mfp\u001b[0m \u001b[1;33m=\u001b[0m \u001b[0mbuiltins\u001b[0m\u001b[1;33m.\u001b[0m\u001b[0mopen\u001b[0m\u001b[1;33m(\u001b[0m\u001b[0mfilename\u001b[0m\u001b[1;33m,\u001b[0m \u001b[1;34m\"rb\"\u001b[0m\u001b[1;33m)\u001b[0m\u001b[1;33m\u001b[0m\u001b[1;33m\u001b[0m\u001b[0m\n\u001b[0m\u001b[0;32m   2767\u001b[0m         \u001b[0mexclusive_fp\u001b[0m \u001b[1;33m=\u001b[0m \u001b[1;32mTrue\u001b[0m\u001b[1;33m\u001b[0m\u001b[1;33m\u001b[0m\u001b[0m\n\u001b[0;32m   2768\u001b[0m \u001b[1;33m\u001b[0m\u001b[0m\n",
      "\u001b[1;31mFileNotFoundError\u001b[0m: [Errno 2] No such file or directory: '68558492aad4414689678fa36eaaa9d8 color.png'"
     ]
    }
   ],
   "source": [
    "imagePath = '68558492aad4414689678fa36eaaa9d8 color.png'\n",
    "depthPath = 'newManualTest/3/cam_3/depthData.npy'\n",
    "\n",
    "from PIL import Image, ImageEnhance\n",
    "\n",
    "#read the image\n",
    "im = Image.open(imagePath)\n",
    "\n",
    "#image brightness enhancer\n",
    "enhancer = ImageEnhance.Brightness(im)\n",
    "\n",
    "factor = 1.2 #brightens the image\n",
    "im_output = enhancer.enhance(factor)\n",
    "im_output.save('newManualTest/2/cam_1/brightened-image.jpg')\n",
    "\n",
    "# build the model from a config file and a checkpoint file\n",
    "img = mmcv.imread('newManualTest/2/cam_1/brightened-image.jpg')\n",
    "model = init_detector(config_file, checkpoint_file, device='cpu')\n",
    "depthData = np.load(depthPath)\n",
    "result = inference_detector(model, img)\n",
    "show_result_pyplot(model, img, result)\n",
    "\n",
    "bbox_result, segm_result = result\n",
    "\n",
    "labels = [\n",
    "    np.full(bbox.shape[0], i, dtype=np.int32)\\\n",
    "    for i, bbox in enumerate(bbox_result)\n",
    "]\n",
    "labels = np.concatenate(labels)\n",
    "bboxes = np.vstack(bbox_result)\n",
    "\n",
    "segm_result = [x for x in segm_result if x != []]\n",
    "segment = np.vstack(segm_result)\n",
    "\n",
    "print(bboxes)"
   ]
  },
  {
   "cell_type": "code",
   "execution_count": null,
   "id": "300a57a5-4cb1-4ec2-b0e6-91fc43a87b5a",
   "metadata": {},
   "outputs": [],
   "source": []
  }
 ],
 "metadata": {
  "kernelspec": {
   "display_name": "Python 3 (ipykernel)",
   "language": "python",
   "name": "python3"
  },
  "language_info": {
   "codemirror_mode": {
    "name": "ipython",
    "version": 3
   },
   "file_extension": ".py",
   "mimetype": "text/x-python",
   "name": "python",
   "nbconvert_exporter": "python",
   "pygments_lexer": "ipython3",
   "version": "3.7.12"
  }
 },
 "nbformat": 4,
 "nbformat_minor": 5
}
