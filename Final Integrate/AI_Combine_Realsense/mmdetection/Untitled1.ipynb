{
 "cells": [
  {
   "cell_type": "code",
   "execution_count": 24,
   "id": "4909a31d-1020-41cb-a333-8158badc3b3b",
   "metadata": {},
   "outputs": [
    {
     "name": "stdout",
     "output_type": "stream",
     "text": [
      "54.32706689611136\n"
     ]
    }
   ],
   "source": [
    "import math\n",
    "\n",
    "depth = 391\n",
    "Preddp = 131\n",
    "f = 1.93\n",
    "\n",
    "Di = Preddp*2.45/1280\n",
    "#Di = Preddp*2.45/800\n",
    "#Li = 1.09*Predlp*2.45/720\n",
    "\n",
    "Rd = depth*Di/(f-Di/2)\n",
    "#Rl = depth*Li/(f-Di/2)\n",
    "print(Rd)"
   ]
  },
  {
   "cell_type": "markdown",
   "id": "efde08a2-d249-4a4d-9cf6-eed6727cede5",
   "metadata": {},
   "source": [
    "for i in range(361):\n",
    "    print(4*math.tan(i*0.5/360))"
   ]
  },
  {
   "cell_type": "markdown",
   "id": "cd1be08d-dd06-451b-970c-fee633edcea4",
   "metadata": {},
   "source": [
    "for i in range(361):\n",
    "    print(4*i*math.tan(0.5)/360)"
   ]
  },
  {
   "cell_type": "code",
   "execution_count": null,
   "id": "cdb3d763-e6f8-4b4e-a956-93fbe445439a",
   "metadata": {},
   "outputs": [],
   "source": []
  }
 ],
 "metadata": {
  "kernelspec": {
   "display_name": "Python 3 (ipykernel)",
   "language": "python",
   "name": "python3"
  },
  "language_info": {
   "codemirror_mode": {
    "name": "ipython",
    "version": 3
   },
   "file_extension": ".py",
   "mimetype": "text/x-python",
   "name": "python",
   "nbconvert_exporter": "python",
   "pygments_lexer": "ipython3",
   "version": "3.7.12"
  }
 },
 "nbformat": 4,
 "nbformat_minor": 5
}
