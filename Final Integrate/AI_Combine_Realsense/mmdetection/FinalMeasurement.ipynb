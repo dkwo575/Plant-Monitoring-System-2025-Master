{
 "cells": [
  {
   "cell_type": "code",
   "id": "143ccd7a-6a1a-4c5b-a7c4-c6304c2eb82e",
   "metadata": {
    "ExecuteTime": {
     "end_time": "2024-06-13T03:36:42.807616Z",
     "start_time": "2024-06-13T03:36:42.803493Z"
    }
   },
   "source": [
    "from mmdet.apis import init_detector, inference_detector, show_result_pyplot\n",
    "import mmcv\n",
    "import numpy as np\n",
    "import cv2 as cv\n",
    "import matplotlib.pyplot as plt \n",
    "import time\n",
    "import random\n",
    "\n",
    "config_file = 'configs/mask_rcnn/mask_rcnn_r50_fpn_1x_coco.py'\n",
    "# download the checkpoint from model zoo and put it in `checkpoints/`\n",
    "# url: https://download.openmmlab.com/mmdetection/v2.0/faster_rcnn/faster_rcnn_r50_fpn_1x_coco/faster_rcnn_r50_fpn_1x_coco_20200130-047c8118.pth\n",
    "#checkpoint_file = 'laboro_tomato_little_48ep.pth'\n",
    "checkpoint_file = 'epoch_42.pth'"
   ],
   "execution_count": 8,
   "outputs": []
  },
  {
   "cell_type": "code",
   "id": "7df971d9-568c-4217-8e38-c5c38939fccf",
   "metadata": {
    "ExecuteTime": {
     "end_time": "2024-06-13T03:36:46.220063Z",
     "start_time": "2024-06-13T03:36:42.808759Z"
    }
   },
   "source": [
    "imagePath = 'lightedImages/angle1/2.png'\n",
    "depthPath = 'lightedImages/angle1/2.npy'\n",
    "\n",
    "# build the model from a config file and a checkpoint file\n",
    "img = mmcv.imread(imagePath)\n",
    "model = init_detector(config_file, checkpoint_file, device='cpu')\n",
    "depthData = np.load(depthPath)\n",
    "result = inference_detector(model, img)\n",
    "show_result_pyplot(model, img, result)\n",
    "\n",
    "bbox_result, segm_result = result\n",
    "\n",
    "labels = [\n",
    "    np.full(bbox.shape[0], i, dtype=np.int32)\\\n",
    "    for i, bbox in enumerate(bbox_result)\n",
    "]\n",
    "labels = np.concatenate(labels)\n",
    "bboxes = np.vstack(bbox_result)\n",
    "\n",
    "segm_result = [x for x in segm_result if x != []]\n",
    "segment = np.vstack(segm_result)\n",
    "\n",
    "print(bboxes)"
   ],
   "execution_count": 9,
   "outputs": []
  },
  {
   "cell_type": "code",
   "id": "497d3af8-56d0-4f5e-b398-93f9ac89b0d6",
   "metadata": {
    "ExecuteTime": {
     "end_time": "2024-06-13T03:36:46.602918Z",
     "start_time": "2024-06-13T03:36:46.221392Z"
    }
   },
   "source": [
    "import cv2\n",
    "\n",
    "x = cv2.imread(imagePath, cv2.IMREAD_COLOR)\n",
    "count = 0\n",
    "for bbox in bboxes:\n",
    "    if bbox[4] > 0.67:\n",
    "        count += 1\n",
    "        x = cv2.rectangle(x, (int(bbox[0]), int(bbox[1])), (int(bbox[2]), int(bbox[3])), (255, 0, 0), 2)\n",
    "        cv2.putText(x, str(count), (int((int(bbox[0]) + int(bbox[2]))/2), int((int(bbox[1]) + int(bbox[3]))/2)), fontFace = cv2.FONT_HERSHEY_PLAIN, fontScale = 3, thickness = 3, color = (250,225,0))\n",
    "        \n",
    "cv2.imwrite('lightedImages/angle2/order.png', x)\n",
    "plt.imshow(x)\n",
    "print(count)"
   ],
   "execution_count": 10,
   "outputs": []
  },
  {
   "cell_type": "code",
   "id": "8c4b8006-17d7-4822-ad39-6e7923bb861c",
   "metadata": {
    "ExecuteTime": {
     "end_time": "2024-06-13T03:36:46.608253Z",
     "start_time": "2024-06-13T03:36:46.604076Z"
    }
   },
   "source": [
    "import pyrealsense2 as rs\n",
    "color_intrin = rs.pyrealsense2.intrinsics() #create a color intrinsics property\n",
    "color_intrin.width = 1280\n",
    "color_intrin.height = 720\n",
    "color_intrin.ppx = 646.9525146484375\n",
    "color_intrin.ppy = 375.3297119140625\n",
    "color_intrin.fx = 911.9494018554688\n",
    "color_intrin.fy = 912.0560302734375\n",
    "color_intrin.model = rs.pyrealsense2.distortion.inverse_brown_conrady\n",
    "color_intrin.coeffs = [0.0, 0.0, 0.0, 0.0, 0.0]"
   ],
   "execution_count": 11,
   "outputs": []
  },
  {
   "cell_type": "code",
   "id": "32f3741f-b479-4788-a244-f507713bd31d",
   "metadata": {
    "ExecuteTime": {
     "end_time": "2024-06-13T03:36:46.616515Z",
     "start_time": "2024-06-13T03:36:46.609526Z"
    }
   },
   "source": [
    "from math import sqrt\n",
    " \n",
    "# Function to find the circle on\n",
    "# which the given three points lie\n",
    "def findCircle(x1, y1, x2, y2, x3, y3) :\n",
    "    x12 = x1 - x2;\n",
    "    x13 = x1 - x3;\n",
    " \n",
    "    y12 = y1 - y2;\n",
    "    y13 = y1 - y3;\n",
    " \n",
    "    y31 = y3 - y1;\n",
    "    y21 = y2 - y1;\n",
    " \n",
    "    x31 = x3 - x1;\n",
    "    x21 = x2 - x1;\n",
    " \n",
    "    # x1^2 - x3^2\n",
    "    sx13 = pow(x1, 2) - pow(x3, 2);\n",
    " \n",
    "    # y1^2 - y3^2\n",
    "    sy13 = pow(y1, 2) - pow(y3, 2);\n",
    " \n",
    "    sx21 = pow(x2, 2) - pow(x1, 2);\n",
    "    sy21 = pow(y2, 2) - pow(y1, 2);\n",
    " \n",
    "    f = (((sx13) * (x12) + (sy13) *\n",
    "          (x12) + (sx21) * (x13) +\n",
    "          (sy21) * (x13)) // (2 *\n",
    "          ((y31) * (x12) - (y21) * (x13))));\n",
    "             \n",
    "    g = (((sx13) * (y12) + (sy13) * (y12) +\n",
    "          (sx21) * (y13) + (sy21) * (y13)) //\n",
    "          (2 * ((x31) * (y12) - (x21) * (y13))));\n",
    " \n",
    "    c = (-pow(x1, 2) - pow(y1, 2) -\n",
    "         2 * g * x1 - 2 * f * y1);\n",
    " \n",
    "    # eqn of circle be x^2 + y^2 + 2*g*x + 2*f*y + c = 0\n",
    "    # where centre is (h = -g, k = -f) and\n",
    "    # radius r as r^2 = h^2 + k^2 - c\n",
    "    h = -g;\n",
    "    k = -f;\n",
    "    sqr_of_r = h * h + k * k - c;\n",
    " \n",
    "    # r is the radius\n",
    "    r = round(sqrt(sqr_of_r), 5);\n",
    " \n",
    "    # print(\"Centre = (\", h, \", \", k, \")\");\n",
    "    # print(\"Radius = \", r);\n",
    "    return r, [h,k]"
   ],
   "execution_count": 12,
   "outputs": []
  },
  {
   "cell_type": "code",
   "id": "a2c5fa45-cae1-455a-a65b-450fc436690c",
   "metadata": {
    "ExecuteTime": {
     "end_time": "2024-06-13T03:36:46.632551Z",
     "start_time": "2024-06-13T03:36:46.618574Z"
    }
   },
   "source": [
    "import math\n",
    "from scipy.ndimage import convolve\n",
    "from PIL import Image, ImageFilter\n",
    "from numpy import median\n",
    "\n",
    "# THIS FUNCTION CALCULATES THE TOMATO SIZE USING THE BOUNDING BOXES, SEGMENTATION AND DEPTHDATA #\n",
    "# RETURNS A LIST OF SIZES AND CORRESPONDING LIST OF fill percentage - higher THE percentage, THE MORE ACCURATE THE SIZE MEASUREMENT #\n",
    "\n",
    "def calculateSize(bboxes, segment, depthData):\n",
    "    heightList = []\n",
    "    widthList = []\n",
    "    fillPercentageList = []\n",
    "    count = 0\n",
    "    \n",
    "    for bbox in bboxes:\n",
    "        if bbox[4] > 0.7:\n",
    "            ### FIND EDGE DEPTH ###\n",
    "            mask = np.asarray(segment[count], dtype=\"uint8\") #get corresponding segmentation mask as binary matrix\n",
    "\n",
    "            fil = [[-1,-1,-1],\n",
    "                   [-1, 8,-1],\n",
    "                   [-1,-1,-1]]\n",
    "\n",
    "            output = np.where(convolve(mask,fil, mode='constant') > 0)\n",
    "\n",
    "            edgeDepth = []\n",
    "\n",
    "            for length in range(len(output[0])):\n",
    "                edgeDepth.append(depthData[output[0][length]][output[1][length]])\n",
    "\n",
    "            centerDepth = median(edgeDepth)\n",
    "\n",
    "            ### CIRCLE FITTING ###\n",
    "            radiusList = []\n",
    "            centerList = []\n",
    "\n",
    "            for i in range(10000): #sample 3 random points and generate a circle\n",
    "                randomList = random.sample(range(0, len(output[0])), 3)\n",
    "                firstPoint = randomList[0]\n",
    "                secondPoint = randomList[1]\n",
    "                thirdPoint = randomList[2]\n",
    "                try:\n",
    "                    radius, center = findCircle(output[1][firstPoint], output[0][firstPoint], output[1][secondPoint], output[0][secondPoint], output[1][thirdPoint], output[0][thirdPoint])\n",
    "                    radiusList.append(radius)\n",
    "                    centerList.append(center)\n",
    "                except ZeroDivisionError:\n",
    "                    continue\n",
    "\n",
    "            medianRadius = int(median(radiusList) + 0.5)\n",
    "\n",
    "            xList = []\n",
    "            yList = []\n",
    "\n",
    "            for i in range(len(radiusList)):\n",
    "                xList.append(centerList[i][0])\n",
    "                yList.append(centerList[i][1])\n",
    "\n",
    "            xMedian = int(median(xList) + 0.5) #center coordinates\n",
    "            yMedian = int(median(yList) + 0.5) #center coordinates\n",
    "\n",
    "            ### CALCULATE SIZE ###\n",
    "            xMin = int(bbox[0])\n",
    "            xMax = int(bbox[2])\n",
    "            yMin = int(bbox[1])\n",
    "            yMax = int(bbox[3])\n",
    "            xMid = int((xMin + xMax)/2)\n",
    "            yMid = int((yMin + yMax)/2)\n",
    "\n",
    "            top = [xMid, yMin]\n",
    "            bot = [xMid, yMax]\n",
    "            left = [xMin, yMid]\n",
    "            right = [xMax, yMid]\n",
    "            topC = rs.rs2_deproject_pixel_to_point(color_intrin, top, centerDepth)\n",
    "            botC = rs.rs2_deproject_pixel_to_point(color_intrin, bot, centerDepth)\n",
    "            leftC = rs.rs2_deproject_pixel_to_point(color_intrin, left, centerDepth)\n",
    "            rightC = rs.rs2_deproject_pixel_to_point(color_intrin, right, centerDepth)\n",
    "\n",
    "            new_height = math.sqrt(math.pow(topC[0] - botC[0], 2) + math.pow(topC[1] - botC[1],2) + math.pow(topC[2] - botC[2], 2))*100\n",
    "            new_width = math.sqrt(math.pow(leftC[0] - rightC[0], 2) + math.pow(leftC[1] - rightC[1],2) + math.pow(leftC[2] - rightC[2], 2))*100\n",
    "\n",
    "            heightList.append(new_height*100)\n",
    "            widthList.append(new_width*100)\n",
    "            \n",
    "            ### calculate how much the segmentation mask fills up the drawn circle ###\n",
    "            maskPixelsInsideCircle = 0\n",
    "            totalMaskPixels = 0\n",
    "\n",
    "            nonZero = np.transpose(np.nonzero(mask))\n",
    "\n",
    "            for length in range(len(nonZero)):\n",
    "                totalMaskPixels += 1\n",
    "                if (((yMedian - nonZero[length][0])**2 + (xMedian - nonZero[length][1])**2) > medianRadius**2):\n",
    "                    continue\n",
    "                else:\n",
    "                    maskPixelsInsideCircle += 1\n",
    "            circleArea = int(math.pi * medianRadius**2)\n",
    "            fillPercentage = maskPixelsInsideCircle / circleArea\n",
    "            fillPercentageList.append(fillPercentage)\n",
    "            \n",
    "        count = count + 1\n",
    "        \n",
    "    return heightList, widthList, fillPercentageList\n"
   ],
   "execution_count": 13,
   "outputs": []
  },
  {
   "cell_type": "code",
   "id": "d8bd8515-1d48-48da-bb86-410d415d418d",
   "metadata": {
    "ExecuteTime": {
     "end_time": "2024-06-13T03:36:47.671318Z",
     "start_time": "2024-06-13T03:36:46.633857Z"
    }
   },
   "source": [
    "heightList, widthList, fillPercentageList= calculateSize(bboxes, segment, depthData)\n",
    "print(heightList)\n",
    "print(widthList)\n",
    "print(fillPercentageList)"
   ],
   "execution_count": 14,
   "outputs": []
  },
  {
   "cell_type": "code",
   "id": "47a92276-49e1-4681-8d10-65b5c4b2cd88",
   "metadata": {
    "ExecuteTime": {
     "end_time": "2024-06-13T03:36:47.674451Z",
     "start_time": "2024-06-13T03:36:47.672321Z"
    }
   },
   "source": [],
   "execution_count": 14,
   "outputs": []
  }
 ],
 "metadata": {
  "kernelspec": {
   "display_name": "Python 3 (ipykernel)",
   "language": "python",
   "name": "python3"
  },
  "language_info": {
   "codemirror_mode": {
    "name": "ipython",
    "version": 3
   },
   "file_extension": ".py",
   "mimetype": "text/x-python",
   "name": "python",
   "nbconvert_exporter": "python",
   "pygments_lexer": "ipython3",
   "version": "3.7.12"
  }
 },
 "nbformat": 4,
 "nbformat_minor": 5
}
